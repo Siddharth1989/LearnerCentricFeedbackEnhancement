{
 "cells": [
  {
   "cell_type": "markdown",
   "metadata": {},
   "source": [
    "# RQ4: To what extent can Machine Learning/NLP models identify the sensemaking aspect of feedback?\n",
    "\n",
    "## Part 5: Using DistilBERT To Identify Sensemaking and Impact vs the Rest\n",
    "\n",
    "In part 5 of RQ4, we are going to use a deep learning algorithm called DistilBERT to train a model to differentiate between Sensemaking and Impact vs the Rest. This uncased DistilBERT model was provided by the Hugging Face AI community. It was customised here to serve the needs of the sensemaking classifications in this study. Reference: [Class Balancing](https://medium.com/@nikviz/bert-handling-class-imbalance-in-language-models-7fe9ccc62cb6)\n",
    "\n",
    "This is a different implementation of DistilBERT by using the Keras training library `ktrain` that sits on top of the Tensorflow Classifer. This is because the data for the third scenario (Sensemaking and Impact vs the Rest) is not balanced. Therefore we are going to use the `ktrain` library to use class penalty weights. These weights penalise the majority class to prevent it from overwhelm the minority class.\n",
    "\n",
    "We used `SMOTE` in Part 1 and Part 2 of this research question for the machine learning models as it can be used on feature extracted data such as TF-IDF and LIWC. However, DistilBERT has its own encoder that extracts the features from the data. Therefore it accepts natural text which cannot be processed by `SMOTE`. \n",
    "\n",
    "We will also used this method to train the DistilBERT model for the second scenario (Sensemaking 1 vs. Sensemaking 2) given in the Part 4 notebook for RQ4.\n",
    "\n",
    "### 1. Loading the Initial Libraries and the Dataset\n",
    "\n",
    "First, we need to load the initial set of libraries and the feedback data to be used in training the model."
   ]
  },
  {
   "cell_type": "code",
   "execution_count": 1,
   "metadata": {
    "execution": {
     "iopub.execute_input": "2023-06-06T00:59:22.820156Z",
     "iopub.status.busy": "2023-06-06T00:59:22.819781Z",
     "iopub.status.idle": "2023-06-06T00:59:23.672205Z",
     "shell.execute_reply": "2023-06-06T00:59:23.671235Z",
     "shell.execute_reply.started": "2023-06-06T00:59:22.820124Z"
    }
   },
   "outputs": [
    {
     "name": "stdout",
     "output_type": "stream",
     "text": [
      "[nltk_data] Downloading package punkt to /usr/share/nltk_data...\n",
      "[nltk_data]   Package punkt is already up-to-date!\n",
      "[nltk_data] Downloading package stopwords to /usr/share/nltk_data...\n",
      "[nltk_data]   Package stopwords is already up-to-date!\n"
     ]
    },
    {
     "data": {
      "text/plain": [
       "True"
      ]
     },
     "execution_count": 1,
     "metadata": {},
     "output_type": "execute_result"
    }
   ],
   "source": [
    "# Importing the necessary libraries\n",
    "import pandas as pd\n",
    "import re\n",
    "import nltk\n",
    "import numpy as np\n",
    "from sklearn.feature_extraction.text import TfidfVectorizer\n",
    "from sklearn.model_selection import train_test_split\n",
    "from sklearn.linear_model import LogisticRegression\n",
    "from sklearn.svm import SVC\n",
    "from sklearn.ensemble import RandomForestClassifier\n",
    "from sklearn.metrics import accuracy_score, classification_report\n",
    "import warnings\n",
    "warnings.filterwarnings('ignore')\n",
    "import nltk\n",
    "nltk.download('punkt')\n",
    "nltk.download('stopwords')"
   ]
  },
  {
   "cell_type": "code",
   "execution_count": 2,
   "metadata": {
    "execution": {
     "iopub.execute_input": "2023-06-06T00:59:29.579619Z",
     "iopub.status.busy": "2023-06-06T00:59:29.579168Z",
     "iopub.status.idle": "2023-06-06T00:59:29.651304Z",
     "shell.execute_reply": "2023-06-06T00:59:29.649456Z",
     "shell.execute_reply.started": "2023-06-06T00:59:29.579584Z"
    }
   },
   "outputs": [
    {
     "data": {
      "text/html": [
       "<div>\n",
       "<style scoped>\n",
       "    .dataframe tbody tr th:only-of-type {\n",
       "        vertical-align: middle;\n",
       "    }\n",
       "\n",
       "    .dataframe tbody tr th {\n",
       "        vertical-align: top;\n",
       "    }\n",
       "\n",
       "    .dataframe thead th {\n",
       "        text-align: right;\n",
       "    }\n",
       "</style>\n",
       "<table border=\"1\" class=\"dataframe\">\n",
       "  <thead>\n",
       "    <tr style=\"text-align: right;\">\n",
       "      <th></th>\n",
       "      <th>SentenceScoreRem</th>\n",
       "      <th>Rubric</th>\n",
       "    </tr>\n",
       "  </thead>\n",
       "  <tbody>\n",
       "    <tr>\n",
       "      <th>0</th>\n",
       "      <td>Yuejing more in depth analysis is required and...</td>\n",
       "      <td>Sensemaking 1&amp;Impact 1</td>\n",
       "    </tr>\n",
       "    <tr>\n",
       "      <th>1</th>\n",
       "      <td>﻿Team 1 requested to re-do their workbook 3 to...</td>\n",
       "      <td>Impact 1</td>\n",
       "    </tr>\n",
       "    <tr>\n",
       "      <th>2</th>\n",
       "      <td>The team submitted the workbook 23 days after ...</td>\n",
       "      <td>Sensemaking 2</td>\n",
       "    </tr>\n",
       "    <tr>\n",
       "      <th>3</th>\n",
       "      <td>Risk assessment and report needs work as discu...</td>\n",
       "      <td>Sensemaking 1</td>\n",
       "    </tr>\n",
       "    <tr>\n",
       "      <th>4</th>\n",
       "      <td>\"Good effort, Please refer to detailed feedbac...</td>\n",
       "      <td>Agency 2&amp;Agency 1</td>\n",
       "    </tr>\n",
       "  </tbody>\n",
       "</table>\n",
       "</div>"
      ],
      "text/plain": [
       "                                    SentenceScoreRem                  Rubric\n",
       "0  Yuejing more in depth analysis is required and...  Sensemaking 1&Impact 1\n",
       "1  ﻿Team 1 requested to re-do their workbook 3 to...                Impact 1\n",
       "2  The team submitted the workbook 23 days after ...           Sensemaking 2\n",
       "3  Risk assessment and report needs work as discu...           Sensemaking 1\n",
       "4  \"Good effort, Please refer to detailed feedbac...       Agency 2&Agency 1"
      ]
     },
     "execution_count": 2,
     "metadata": {},
     "output_type": "execute_result"
    }
   ],
   "source": [
    "# Importing the data\n",
    "data = pd.read_csv('/kaggle/input/feedback-data-analysis/stage2.csv')\n",
    "data = data[['SentenceScoreRem', 'Rubric']]\n",
    "\n",
    "# Checking the data\n",
    "data.head()"
   ]
  },
  {
   "cell_type": "markdown",
   "metadata": {},
   "source": [
    "### 2. Cleaning the Text and Preparing the Data\n",
    "\n",
    "We can define a function in the same way we defined it for the data in part 2. This function will clean the text by tokenizing it and removing the stop words."
   ]
  },
  {
   "cell_type": "code",
   "execution_count": 3,
   "metadata": {
    "execution": {
     "iopub.execute_input": "2023-06-06T00:59:33.655125Z",
     "iopub.status.busy": "2023-06-06T00:59:33.654733Z",
     "iopub.status.idle": "2023-06-06T00:59:36.015497Z",
     "shell.execute_reply": "2023-06-06T00:59:36.014436Z",
     "shell.execute_reply.started": "2023-06-06T00:59:33.655092Z"
    }
   },
   "outputs": [
    {
     "data": {
      "text/html": [
       "<div>\n",
       "<style scoped>\n",
       "    .dataframe tbody tr th:only-of-type {\n",
       "        vertical-align: middle;\n",
       "    }\n",
       "\n",
       "    .dataframe tbody tr th {\n",
       "        vertical-align: top;\n",
       "    }\n",
       "\n",
       "    .dataframe thead th {\n",
       "        text-align: right;\n",
       "    }\n",
       "</style>\n",
       "<table border=\"1\" class=\"dataframe\">\n",
       "  <thead>\n",
       "    <tr style=\"text-align: right;\">\n",
       "      <th></th>\n",
       "      <th>text</th>\n",
       "      <th>Rubric</th>\n",
       "    </tr>\n",
       "  </thead>\n",
       "  <tbody>\n",
       "    <tr>\n",
       "      <th>0</th>\n",
       "      <td>yuejing depth analysis required see link key c...</td>\n",
       "      <td>Sensemaking 1&amp;Impact 1</td>\n",
       "    </tr>\n",
       "    <tr>\n",
       "      <th>1</th>\n",
       "      <td>team requested workbook better original mark</td>\n",
       "      <td>Impact 1</td>\n",
       "    </tr>\n",
       "    <tr>\n",
       "      <th>2</th>\n",
       "      <td>team submitted workbook days submission date kv</td>\n",
       "      <td>Sensemaking 2</td>\n",
       "    </tr>\n",
       "    <tr>\n",
       "      <th>3</th>\n",
       "      <td>risk assessment report needs work discussed tu...</td>\n",
       "      <td>Sensemaking 1</td>\n",
       "    </tr>\n",
       "    <tr>\n",
       "      <th>4</th>\n",
       "      <td>good effort please refer detailed feedback fil...</td>\n",
       "      <td>Agency 2&amp;Agency 1</td>\n",
       "    </tr>\n",
       "    <tr>\n",
       "      <th>...</th>\n",
       "      <td>...</td>\n",
       "      <td>...</td>\n",
       "    </tr>\n",
       "    <tr>\n",
       "      <th>5754</th>\n",
       "      <td>q need use english communicate partiularly par...</td>\n",
       "      <td>Impact 1</td>\n",
       "    </tr>\n",
       "    <tr>\n",
       "      <th>5755</th>\n",
       "      <td>part b complicated needed explain rate change ...</td>\n",
       "      <td>Sensemaking 1</td>\n",
       "    </tr>\n",
       "    <tr>\n",
       "      <th>5756</th>\n",
       "      <td>q english exposition required</td>\n",
       "      <td>Impact 2</td>\n",
       "    </tr>\n",
       "    <tr>\n",
       "      <th>5757</th>\n",
       "      <td>made two errors finding determinant part b fin...</td>\n",
       "      <td>Sensemaking 1</td>\n",
       "    </tr>\n",
       "    <tr>\n",
       "      <th>5758</th>\n",
       "      <td>q point two circles intersect coordinates swit...</td>\n",
       "      <td>Sensemaking 1</td>\n",
       "    </tr>\n",
       "  </tbody>\n",
       "</table>\n",
       "<p>5759 rows × 2 columns</p>\n",
       "</div>"
      ],
      "text/plain": [
       "                                                   text  \\\n",
       "0     yuejing depth analysis required see link key c...   \n",
       "1          team requested workbook better original mark   \n",
       "2       team submitted workbook days submission date kv   \n",
       "3     risk assessment report needs work discussed tu...   \n",
       "4     good effort please refer detailed feedback fil...   \n",
       "...                                                 ...   \n",
       "5754  q need use english communicate partiularly par...   \n",
       "5755  part b complicated needed explain rate change ...   \n",
       "5756                      q english exposition required   \n",
       "5757  made two errors finding determinant part b fin...   \n",
       "5758  q point two circles intersect coordinates swit...   \n",
       "\n",
       "                      Rubric  \n",
       "0     Sensemaking 1&Impact 1  \n",
       "1                   Impact 1  \n",
       "2              Sensemaking 2  \n",
       "3              Sensemaking 1  \n",
       "4          Agency 2&Agency 1  \n",
       "...                      ...  \n",
       "5754                Impact 1  \n",
       "5755           Sensemaking 1  \n",
       "5756                Impact 2  \n",
       "5757           Sensemaking 1  \n",
       "5758           Sensemaking 1  \n",
       "\n",
       "[5759 rows x 2 columns]"
      ]
     },
     "execution_count": 3,
     "metadata": {},
     "output_type": "execute_result"
    }
   ],
   "source": [
    "# Defining a function to clean the sentencescorerem column\n",
    "def clean_text(text):\n",
    "    \n",
    "    # Converting the characters of the text to lowercase\n",
    "    text = re.sub(r'[^a-zA-Z]', ' ', text.lower())\n",
    "    \n",
    "    # Tokenizing the text\n",
    "    tokens = nltk.word_tokenize(text)\n",
    "    \n",
    "    # Downloading the stop words from the NLTK corpus\n",
    "    stopwords = nltk.corpus.stopwords.words('english')\n",
    "    \n",
    "    # Removing the stopwords from the text\n",
    "    filtered_tokens = [token for token in tokens if token not in stopwords]\n",
    "    \n",
    "    # Joining the cleaned text\n",
    "    clean_text = ' '.join(filtered_tokens)\n",
    "    \n",
    "    # Returning the cleaned text\n",
    "    return clean_text\n",
    "\n",
    "# Applying the clean text function to the data\n",
    "data['text'] = data['SentenceScoreRem'].apply(clean_text)\n",
    "\n",
    "# Splitting the preprocessed data into features and target variable\n",
    "features = data['text']\n",
    "target = data['Rubric']\n",
    "\n",
    "# Checking the cleaned data\n",
    "data[['text', 'Rubric']]"
   ]
  },
  {
   "cell_type": "markdown",
   "metadata": {},
   "source": [
    "For case 3, we need to define a function that checks whether the text contains a Sensemaking and Future Impact comment together and assigns a value of 1 for those rows and 0 otherwise. Hence, this will be our target variable for this case."
   ]
  },
  {
   "cell_type": "code",
   "execution_count": 5,
   "metadata": {
    "execution": {
     "iopub.execute_input": "2023-06-06T01:01:56.631129Z",
     "iopub.status.busy": "2023-06-06T01:01:56.630667Z",
     "iopub.status.idle": "2023-06-06T01:01:56.659471Z",
     "shell.execute_reply": "2023-06-06T01:01:56.657972Z",
     "shell.execute_reply.started": "2023-06-06T01:01:56.631090Z"
    }
   },
   "outputs": [
    {
     "data": {
      "text/html": [
       "<div>\n",
       "<style scoped>\n",
       "    .dataframe tbody tr th:only-of-type {\n",
       "        vertical-align: middle;\n",
       "    }\n",
       "\n",
       "    .dataframe tbody tr th {\n",
       "        vertical-align: top;\n",
       "    }\n",
       "\n",
       "    .dataframe thead th {\n",
       "        text-align: right;\n",
       "    }\n",
       "</style>\n",
       "<table border=\"1\" class=\"dataframe\">\n",
       "  <thead>\n",
       "    <tr style=\"text-align: right;\">\n",
       "      <th></th>\n",
       "      <th>text</th>\n",
       "      <th>Rubric</th>\n",
       "      <th>label</th>\n",
       "    </tr>\n",
       "  </thead>\n",
       "  <tbody>\n",
       "    <tr>\n",
       "      <th>0</th>\n",
       "      <td>yuejing depth analysis required see link key c...</td>\n",
       "      <td>Sensemaking 1&amp;Impact 1</td>\n",
       "      <td>1</td>\n",
       "    </tr>\n",
       "    <tr>\n",
       "      <th>1</th>\n",
       "      <td>team requested workbook better original mark</td>\n",
       "      <td>Impact 1</td>\n",
       "      <td>0</td>\n",
       "    </tr>\n",
       "    <tr>\n",
       "      <th>2</th>\n",
       "      <td>team submitted workbook days submission date kv</td>\n",
       "      <td>Sensemaking 2</td>\n",
       "      <td>0</td>\n",
       "    </tr>\n",
       "    <tr>\n",
       "      <th>3</th>\n",
       "      <td>risk assessment report needs work discussed tu...</td>\n",
       "      <td>Sensemaking 1</td>\n",
       "      <td>0</td>\n",
       "    </tr>\n",
       "    <tr>\n",
       "      <th>4</th>\n",
       "      <td>good effort please refer detailed feedback fil...</td>\n",
       "      <td>Agency 2&amp;Agency 1</td>\n",
       "      <td>0</td>\n",
       "    </tr>\n",
       "    <tr>\n",
       "      <th>...</th>\n",
       "      <td>...</td>\n",
       "      <td>...</td>\n",
       "      <td>...</td>\n",
       "    </tr>\n",
       "    <tr>\n",
       "      <th>5754</th>\n",
       "      <td>q need use english communicate partiularly par...</td>\n",
       "      <td>Impact 1</td>\n",
       "      <td>0</td>\n",
       "    </tr>\n",
       "    <tr>\n",
       "      <th>5755</th>\n",
       "      <td>part b complicated needed explain rate change ...</td>\n",
       "      <td>Sensemaking 1</td>\n",
       "      <td>0</td>\n",
       "    </tr>\n",
       "    <tr>\n",
       "      <th>5756</th>\n",
       "      <td>q english exposition required</td>\n",
       "      <td>Impact 2</td>\n",
       "      <td>0</td>\n",
       "    </tr>\n",
       "    <tr>\n",
       "      <th>5757</th>\n",
       "      <td>made two errors finding determinant part b fin...</td>\n",
       "      <td>Sensemaking 1</td>\n",
       "      <td>0</td>\n",
       "    </tr>\n",
       "    <tr>\n",
       "      <th>5758</th>\n",
       "      <td>q point two circles intersect coordinates swit...</td>\n",
       "      <td>Sensemaking 1</td>\n",
       "      <td>0</td>\n",
       "    </tr>\n",
       "  </tbody>\n",
       "</table>\n",
       "<p>5759 rows × 3 columns</p>\n",
       "</div>"
      ],
      "text/plain": [
       "                                                   text  \\\n",
       "0     yuejing depth analysis required see link key c...   \n",
       "1          team requested workbook better original mark   \n",
       "2       team submitted workbook days submission date kv   \n",
       "3     risk assessment report needs work discussed tu...   \n",
       "4     good effort please refer detailed feedback fil...   \n",
       "...                                                 ...   \n",
       "5754  q need use english communicate partiularly par...   \n",
       "5755  part b complicated needed explain rate change ...   \n",
       "5756                      q english exposition required   \n",
       "5757  made two errors finding determinant part b fin...   \n",
       "5758  q point two circles intersect coordinates swit...   \n",
       "\n",
       "                      Rubric  label  \n",
       "0     Sensemaking 1&Impact 1      1  \n",
       "1                   Impact 1      0  \n",
       "2              Sensemaking 2      0  \n",
       "3              Sensemaking 1      0  \n",
       "4          Agency 2&Agency 1      0  \n",
       "...                      ...    ...  \n",
       "5754                Impact 1      0  \n",
       "5755           Sensemaking 1      0  \n",
       "5756                Impact 2      0  \n",
       "5757           Sensemaking 1      0  \n",
       "5758           Sensemaking 1      0  \n",
       "\n",
       "[5759 rows x 3 columns]"
      ]
     },
     "execution_count": 5,
     "metadata": {},
     "output_type": "execute_result"
    }
   ],
   "source": [
    "# Defining a function to check for the (Sensemaking and Impact)\n",
    "def sensemaking_impact(rub):\n",
    "\n",
    "    if 'Sensemaking' in rub and 'Impact' in rub:\n",
    "\n",
    "        return 1\n",
    "\n",
    "    else:\n",
    "\n",
    "        return 0\n",
    "\n",
    "# Applying the above label    \n",
    "data['label'] = data['Rubric'].apply(lambda x : sensemaking_impact(x))\n",
    "\n",
    "# Checking the new columns\n",
    "data[['text', 'Rubric', 'label']]"
   ]
  },
  {
   "cell_type": "markdown",
   "metadata": {},
   "source": [
    "As shown in the above view, we have our target variable that contains two classes. In the next step, let us separately store the target variable and the feedback text."
   ]
  },
  {
   "cell_type": "code",
   "execution_count": 6,
   "metadata": {
    "execution": {
     "iopub.execute_input": "2023-06-06T01:02:01.452269Z",
     "iopub.status.busy": "2023-06-06T01:02:01.451883Z",
     "iopub.status.idle": "2023-06-06T01:02:01.458183Z",
     "shell.execute_reply": "2023-06-06T01:02:01.457044Z",
     "shell.execute_reply.started": "2023-06-06T01:02:01.452237Z"
    }
   },
   "outputs": [],
   "source": [
    "# Storing the features and the target variable separately\n",
    "features = data['text']\n",
    "target = data['label']"
   ]
  },
  {
   "cell_type": "markdown",
   "metadata": {},
   "source": [
    "Let us check the extent of imbalance in the target variable."
   ]
  },
  {
   "cell_type": "code",
   "execution_count": 7,
   "metadata": {
    "execution": {
     "iopub.execute_input": "2023-06-06T01:02:04.588165Z",
     "iopub.status.busy": "2023-06-06T01:02:04.587779Z",
     "iopub.status.idle": "2023-06-06T01:02:04.596856Z",
     "shell.execute_reply": "2023-06-06T01:02:04.595749Z",
     "shell.execute_reply.started": "2023-06-06T01:02:04.588132Z"
    }
   },
   "outputs": [
    {
     "data": {
      "text/plain": [
       "0    5255\n",
       "1     504\n",
       "Name: label, dtype: int64"
      ]
     },
     "execution_count": 7,
     "metadata": {},
     "output_type": "execute_result"
    }
   ],
   "source": [
    "# Checking the class distribution of the target variable\n",
    "data['label'].value_counts()"
   ]
  },
  {
   "cell_type": "markdown",
   "metadata": {},
   "source": [
    "As was the case with the data in part 2, there is a severe class imbalance in the data. It is likely that this imbalance will persist when we split the data into the training and testing data sets. We will come to that shortly. First, let us install and import the `ktrain` library to use the Keras module."
   ]
  },
  {
   "cell_type": "code",
   "execution_count": 8,
   "metadata": {
    "execution": {
     "iopub.execute_input": "2023-06-06T01:02:06.677698Z",
     "iopub.status.busy": "2023-06-06T01:02:06.677258Z",
     "iopub.status.idle": "2023-06-06T01:02:18.303494Z",
     "shell.execute_reply": "2023-06-06T01:02:18.302088Z",
     "shell.execute_reply.started": "2023-06-06T01:02:06.677663Z"
    }
   },
   "outputs": [
    {
     "name": "stdout",
     "output_type": "stream",
     "text": [
      "Requirement already satisfied: ktrain in /opt/conda/lib/python3.10/site-packages (0.37.1)\n",
      "Requirement already satisfied: scikit-learn in /opt/conda/lib/python3.10/site-packages (from ktrain) (1.2.2)\n",
      "Requirement already satisfied: matplotlib>=3.0.0 in /opt/conda/lib/python3.10/site-packages (from ktrain) (3.6.3)\n",
      "Requirement already satisfied: pandas>=1.0.1 in /opt/conda/lib/python3.10/site-packages (from ktrain) (1.5.3)\n",
      "Requirement already satisfied: fastprogress>=0.1.21 in /opt/conda/lib/python3.10/site-packages (from ktrain) (1.0.3)\n",
      "Requirement already satisfied: requests in /opt/conda/lib/python3.10/site-packages (from ktrain) (2.28.2)\n",
      "Requirement already satisfied: joblib in /opt/conda/lib/python3.10/site-packages (from ktrain) (1.2.0)\n",
      "Requirement already satisfied: packaging in /opt/conda/lib/python3.10/site-packages (from ktrain) (21.3)\n",
      "Requirement already satisfied: langdetect in /opt/conda/lib/python3.10/site-packages (from ktrain) (1.0.9)\n",
      "Requirement already satisfied: jieba in /opt/conda/lib/python3.10/site-packages (from ktrain) (0.42.1)\n",
      "Requirement already satisfied: cchardet in /opt/conda/lib/python3.10/site-packages (from ktrain) (2.1.7)\n",
      "Requirement already satisfied: chardet in /opt/conda/lib/python3.10/site-packages (from ktrain) (5.1.0)\n",
      "Requirement already satisfied: syntok>1.3.3 in /opt/conda/lib/python3.10/site-packages (from ktrain) (1.4.4)\n",
      "Requirement already satisfied: tika in /opt/conda/lib/python3.10/site-packages (from ktrain) (2.6.0)\n",
      "Requirement already satisfied: transformers>=4.17.0 in /opt/conda/lib/python3.10/site-packages (from ktrain) (4.30.0.dev0)\n",
      "Requirement already satisfied: sentencepiece in /opt/conda/lib/python3.10/site-packages (from ktrain) (0.1.99)\n",
      "Requirement already satisfied: keras-bert>=0.86.0 in /opt/conda/lib/python3.10/site-packages (from ktrain) (0.89.0)\n",
      "Requirement already satisfied: whoosh in /opt/conda/lib/python3.10/site-packages (from ktrain) (2.7.4)\n",
      "Requirement already satisfied: numpy in /opt/conda/lib/python3.10/site-packages (from keras-bert>=0.86.0->ktrain) (1.23.5)\n",
      "Requirement already satisfied: keras-transformer==0.40.0 in /opt/conda/lib/python3.10/site-packages (from keras-bert>=0.86.0->ktrain) (0.40.0)\n",
      "Requirement already satisfied: keras-pos-embd==0.13.0 in /opt/conda/lib/python3.10/site-packages (from keras-transformer==0.40.0->keras-bert>=0.86.0->ktrain) (0.13.0)\n",
      "Requirement already satisfied: keras-multi-head==0.29.0 in /opt/conda/lib/python3.10/site-packages (from keras-transformer==0.40.0->keras-bert>=0.86.0->ktrain) (0.29.0)\n",
      "Requirement already satisfied: keras-layer-normalization==0.16.0 in /opt/conda/lib/python3.10/site-packages (from keras-transformer==0.40.0->keras-bert>=0.86.0->ktrain) (0.16.0)\n",
      "Requirement already satisfied: keras-position-wise-feed-forward==0.8.0 in /opt/conda/lib/python3.10/site-packages (from keras-transformer==0.40.0->keras-bert>=0.86.0->ktrain) (0.8.0)\n",
      "Requirement already satisfied: keras-embed-sim==0.10.0 in /opt/conda/lib/python3.10/site-packages (from keras-transformer==0.40.0->keras-bert>=0.86.0->ktrain) (0.10.0)\n",
      "Requirement already satisfied: keras-self-attention==0.51.0 in /opt/conda/lib/python3.10/site-packages (from keras-multi-head==0.29.0->keras-transformer==0.40.0->keras-bert>=0.86.0->ktrain) (0.51.0)\n",
      "Requirement already satisfied: contourpy>=1.0.1 in /opt/conda/lib/python3.10/site-packages (from matplotlib>=3.0.0->ktrain) (1.0.7)\n",
      "Requirement already satisfied: cycler>=0.10 in /opt/conda/lib/python3.10/site-packages (from matplotlib>=3.0.0->ktrain) (0.11.0)\n",
      "Requirement already satisfied: fonttools>=4.22.0 in /opt/conda/lib/python3.10/site-packages (from matplotlib>=3.0.0->ktrain) (4.39.3)\n",
      "Requirement already satisfied: kiwisolver>=1.0.1 in /opt/conda/lib/python3.10/site-packages (from matplotlib>=3.0.0->ktrain) (1.4.4)\n",
      "Requirement already satisfied: pillow>=6.2.0 in /opt/conda/lib/python3.10/site-packages (from matplotlib>=3.0.0->ktrain) (9.5.0)\n",
      "Requirement already satisfied: pyparsing>=2.2.1 in /opt/conda/lib/python3.10/site-packages (from matplotlib>=3.0.0->ktrain) (3.0.9)\n",
      "Requirement already satisfied: python-dateutil>=2.7 in /opt/conda/lib/python3.10/site-packages (from matplotlib>=3.0.0->ktrain) (2.8.2)\n",
      "Requirement already satisfied: pytz>=2020.1 in /opt/conda/lib/python3.10/site-packages (from pandas>=1.0.1->ktrain) (2023.3)\n",
      "Requirement already satisfied: regex>2016 in /opt/conda/lib/python3.10/site-packages (from syntok>1.3.3->ktrain) (2023.5.5)\n",
      "Requirement already satisfied: filelock in /opt/conda/lib/python3.10/site-packages (from transformers>=4.17.0->ktrain) (3.12.0)\n",
      "Requirement already satisfied: huggingface-hub<1.0,>=0.14.1 in /opt/conda/lib/python3.10/site-packages (from transformers>=4.17.0->ktrain) (0.14.1)\n",
      "Requirement already satisfied: pyyaml>=5.1 in /opt/conda/lib/python3.10/site-packages (from transformers>=4.17.0->ktrain) (5.4.1)\n",
      "Requirement already satisfied: tokenizers!=0.11.3,<0.14,>=0.11.1 in /opt/conda/lib/python3.10/site-packages (from transformers>=4.17.0->ktrain) (0.13.3)\n",
      "Requirement already satisfied: safetensors>=0.3.1 in /opt/conda/lib/python3.10/site-packages (from transformers>=4.17.0->ktrain) (0.3.1)\n",
      "Requirement already satisfied: tqdm>=4.27 in /opt/conda/lib/python3.10/site-packages (from transformers>=4.17.0->ktrain) (4.64.1)\n",
      "Requirement already satisfied: six in /opt/conda/lib/python3.10/site-packages (from langdetect->ktrain) (1.16.0)\n",
      "Requirement already satisfied: charset-normalizer<4,>=2 in /opt/conda/lib/python3.10/site-packages (from requests->ktrain) (2.1.1)\n",
      "Requirement already satisfied: idna<4,>=2.5 in /opt/conda/lib/python3.10/site-packages (from requests->ktrain) (3.4)\n",
      "Requirement already satisfied: urllib3<1.27,>=1.21.1 in /opt/conda/lib/python3.10/site-packages (from requests->ktrain) (1.26.15)\n",
      "Requirement already satisfied: certifi>=2017.4.17 in /opt/conda/lib/python3.10/site-packages (from requests->ktrain) (2023.5.7)\n",
      "Requirement already satisfied: scipy>=1.3.2 in /opt/conda/lib/python3.10/site-packages (from scikit-learn->ktrain) (1.10.1)\n",
      "Requirement already satisfied: threadpoolctl>=2.0.0 in /opt/conda/lib/python3.10/site-packages (from scikit-learn->ktrain) (3.1.0)\n",
      "Requirement already satisfied: setuptools in /opt/conda/lib/python3.10/site-packages (from tika->ktrain) (59.8.0)\n",
      "Requirement already satisfied: fsspec in /opt/conda/lib/python3.10/site-packages (from huggingface-hub<1.0,>=0.14.1->transformers>=4.17.0->ktrain) (2023.5.0)\n",
      "Requirement already satisfied: typing-extensions>=3.7.4.3 in /opt/conda/lib/python3.10/site-packages (from huggingface-hub<1.0,>=0.14.1->transformers>=4.17.0->ktrain) (4.5.0)\n",
      "\u001b[33mWARNING: Running pip as the 'root' user can result in broken permissions and conflicting behaviour with the system package manager. It is recommended to use a virtual environment instead: https://pip.pypa.io/warnings/venv\u001b[0m\u001b[33m\n",
      "\u001b[0mNote: you may need to restart the kernel to use updated packages.\n"
     ]
    }
   ],
   "source": [
    "# Installing the ktrain library for Keras\n",
    "pip install ktrain"
   ]
  },
  {
   "cell_type": "code",
   "execution_count": 9,
   "metadata": {
    "execution": {
     "iopub.execute_input": "2023-06-06T01:03:11.149006Z",
     "iopub.status.busy": "2023-06-06T01:03:11.148072Z",
     "iopub.status.idle": "2023-06-06T01:03:14.576354Z",
     "shell.execute_reply": "2023-06-06T01:03:14.575048Z",
     "shell.execute_reply.started": "2023-06-06T01:03:11.148954Z"
    }
   },
   "outputs": [],
   "source": [
    "# Importing the required libraries including the ktrain library\n",
    "import ktrain\n",
    "from sklearn.model_selection import train_test_split"
   ]
  },
  {
   "cell_type": "markdown",
   "metadata": {},
   "source": [
    "### 3. Creating the Class Weights and Training the Model\n",
    "\n",
    "Before creating the class weights, let us create the container for holding the class weights. We can also use the `train_test_split` module from the `sklearn` library to split the data into training and testing. This time, the split will be set at 90-10 just to ensure that the training process has as much data as possible."
   ]
  },
  {
   "cell_type": "code",
   "execution_count": 10,
   "metadata": {
    "execution": {
     "iopub.execute_input": "2023-06-06T01:03:21.763261Z",
     "iopub.status.busy": "2023-06-06T01:03:21.762532Z",
     "iopub.status.idle": "2023-06-06T01:03:21.773344Z",
     "shell.execute_reply": "2023-06-06T01:03:21.772330Z",
     "shell.execute_reply.started": "2023-06-06T01:03:21.763225Z"
    }
   },
   "outputs": [],
   "source": [
    "# Creating the class container\n",
    "classes =  list(set(data.label))\n",
    "\n",
    "# Splitting the data into the training and validation data sets\n",
    "X_train, X_test, y_train, y_test = train_test_split(data.text, data.label, test_size=0.01, random_state=42)"
   ]
  },
  {
   "cell_type": "markdown",
   "metadata": {},
   "source": [
    "We will use the training and test data to build the classifier with the `text` module from the `ktrain` library."
   ]
  },
  {
   "cell_type": "code",
   "execution_count": 11,
   "metadata": {
    "execution": {
     "iopub.execute_input": "2023-06-06T01:03:26.793687Z",
     "iopub.status.busy": "2023-06-06T01:03:26.793036Z",
     "iopub.status.idle": "2023-06-06T01:03:36.753076Z",
     "shell.execute_reply": "2023-06-06T01:03:36.751250Z",
     "shell.execute_reply.started": "2023-06-06T01:03:26.793653Z"
    }
   },
   "outputs": [
    {
     "name": "stdout",
     "output_type": "stream",
     "text": [
      "preprocessing train...\n",
      "language: en\n",
      "train sequence lengths:\n",
      "\tmean : 11\n",
      "\t95percentile : 27\n",
      "\t99percentile : 49\n"
     ]
    },
    {
     "data": {
      "text/html": [
       "\n",
       "<style>\n",
       "    /* Turns off some styling */\n",
       "    progress {\n",
       "        /* gets rid of default border in Firefox and Opera. */\n",
       "        border: none;\n",
       "        /* Needs to be in here for Safari polyfill so background images work as expected. */\n",
       "        background-size: auto;\n",
       "    }\n",
       "    progress:not([value]), progress:not([value])::-webkit-progress-bar {\n",
       "        background: repeating-linear-gradient(45deg, #7e7e7e, #7e7e7e 10px, #5c5c5c 10px, #5c5c5c 20px);\n",
       "    }\n",
       "    .progress-bar-interrupted, .progress-bar-interrupted::-webkit-progress-bar {\n",
       "        background: #F44336;\n",
       "    }\n",
       "</style>\n"
      ],
      "text/plain": [
       "<IPython.core.display.HTML object>"
      ]
     },
     "metadata": {},
     "output_type": "display_data"
    },
    {
     "data": {
      "text/html": [],
      "text/plain": [
       "<IPython.core.display.HTML object>"
      ]
     },
     "metadata": {},
     "output_type": "display_data"
    },
    {
     "name": "stdout",
     "output_type": "stream",
     "text": [
      "Is Multi-Label? False\n",
      "preprocessing test...\n",
      "language: en\n",
      "test sequence lengths:\n",
      "\tmean : 11\n",
      "\t95percentile : 23\n",
      "\t99percentile : 49\n"
     ]
    },
    {
     "data": {
      "text/html": [
       "\n",
       "<style>\n",
       "    /* Turns off some styling */\n",
       "    progress {\n",
       "        /* gets rid of default border in Firefox and Opera. */\n",
       "        border: none;\n",
       "        /* Needs to be in here for Safari polyfill so background images work as expected. */\n",
       "        background-size: auto;\n",
       "    }\n",
       "    progress:not([value]), progress:not([value])::-webkit-progress-bar {\n",
       "        background: repeating-linear-gradient(45deg, #7e7e7e, #7e7e7e 10px, #5c5c5c 10px, #5c5c5c 20px);\n",
       "    }\n",
       "    .progress-bar-interrupted, .progress-bar-interrupted::-webkit-progress-bar {\n",
       "        background: #F44336;\n",
       "    }\n",
       "</style>\n"
      ],
      "text/plain": [
       "<IPython.core.display.HTML object>"
      ]
     },
     "metadata": {},
     "output_type": "display_data"
    },
    {
     "data": {
      "text/html": [],
      "text/plain": [
       "<IPython.core.display.HTML object>"
      ]
     },
     "metadata": {},
     "output_type": "display_data"
    },
    {
     "name": "stdout",
     "output_type": "stream",
     "text": [
      "task: text classification\n",
      "Is Multi-Label? False\n",
      "maxlen is 350\n",
      "done.\n"
     ]
    }
   ],
   "source": [
    "# Importing the text module from the ktrain library\n",
    "from ktrain import text\n",
    "\n",
    "# Preprocessing the data\n",
    "trn, val, preproc = text.texts_from_array(x_train=X_train.values, y_train=y_train.values,\n",
    "                                          x_test=X_test.values, y_test=y_test.values,\n",
    "                                                                   class_names=classes,\n",
    "                                                                   val_pct=0.1, \n",
    "                                                                   max_features=30000, \n",
    "                                                                   maxlen=350,\n",
    "                                                                   preprocess_mode='distilbert',\n",
    "                                                                   ngram_range=1)\n",
    "\n",
    "# Building the classifier with the train and test data\n",
    "model = text.text_classifier('distilbert', train_data=trn, preproc=preproc)"
   ]
  },
  {
   "cell_type": "markdown",
   "metadata": {},
   "source": [
    "To handle the class imbalance, we can start building the weights with the help of the `utils` module of the `sklearn` library. Once the class weights have been created, we can use them and the trained classifer to start training the model with the `ktrain`'s model learner.\n",
    "\n",
    "We will also autofit this learner so that it calculates the loss function and finds the best learning rate for the model with the class weights."
   ]
  },
  {
   "cell_type": "code",
   "execution_count": 19,
   "metadata": {
    "execution": {
     "iopub.execute_input": "2023-06-06T01:16:16.304593Z",
     "iopub.status.busy": "2023-06-06T01:16:16.304193Z",
     "iopub.status.idle": "2023-06-06T01:33:26.412200Z",
     "shell.execute_reply": "2023-06-06T01:33:26.411234Z",
     "shell.execute_reply.started": "2023-06-06T01:16:16.304560Z"
    }
   },
   "outputs": [
    {
     "name": "stdout",
     "output_type": "stream",
     "text": [
      "[0.54827852 5.67828685]\n",
      "{0: 0.5482785150990576, 1: 5.6782868525896415}\n",
      "simulating training for different learning rates... this may take a few moments...\n",
      "Epoch 1/5\n",
      "950/950 [==============================] - 161s 155ms/step - loss: 0.4483 - accuracy: 0.8782\n",
      "Epoch 2/5\n",
      "950/950 [==============================] - 149s 156ms/step - loss: 0.2228 - accuracy: 0.9141\n",
      "Epoch 3/5\n",
      "950/950 [==============================] - 149s 157ms/step - loss: 0.3354 - accuracy: 0.9094\n",
      "Epoch 4/5\n",
      "950/950 [==============================] - 58s 61ms/step - loss: 1.2303 - accuracy: 0.8836\n",
      "\n",
      "\n",
      "done.\n",
      "Visually inspect loss plot and select learning rate associated with falling loss\n"
     ]
    },
    {
     "data": {
      "image/png": "[encoded data removed]",
      "text/plain": [
       "<Figure size 640x480 with 1 Axes>"
      ]
     },
     "metadata": {},
     "output_type": "display_data"
    },
    {
     "name": "stdout",
     "output_type": "stream",
     "text": [
      "\n",
      "\n",
      "begin training using triangular learning rate policy with max lr of 2e-05...\n",
      "Epoch 1/3\n",
      "951/951 [==============================] - 161s 160ms/step - loss: 0.4389 - accuracy: 0.7755 - val_loss: 0.2748 - val_accuracy: 0.8621\n",
      "Epoch 2/3\n",
      "951/951 [==============================] - 149s 156ms/step - loss: 0.2642 - accuracy: 0.8856 - val_loss: 0.2905 - val_accuracy: 0.8276\n",
      "Epoch 3/3\n",
      "951/951 [==============================] - 150s 156ms/step - loss: 0.1759 - accuracy: 0.9290 - val_loss: 0.1564 - val_accuracy: 0.9483\n"
     ]
    },
    {
     "data": {
      "text/plain": [
       "<keras.callbacks.History at 0x7ebc51904370>"
      ]
     },
     "execution_count": 19,
     "metadata": {},
     "output_type": "execute_result"
    }
   ],
   "source": [
    "# Importing the required library to create the class weights and handle the class imbalance\n",
    "#from sklearn.utils import class_weight\n",
    "import sklearn.utils as ut\n",
    "\n",
    "# Creating the class weights\n",
    "class_weights = ut.compute_class_weight(\n",
    "                                        class_weight = \"balanced\",\n",
    "                                        classes = np.unique(y_train),\n",
    "                                        y = y_train                                                    \n",
    "                                    )\n",
    "\n",
    "# Printing the class weights\n",
    "print(class_weights)\n",
    "\n",
    "# Creating an empty dictionary to store the class weights and their indexes\n",
    "weights={}\n",
    "\n",
    "# Looping through the class weights and their corresponding indexes and storing them in the dictionary\n",
    "for index, weight in enumerate(class_weights) :\n",
    "    weights[index]=weight\n",
    "\n",
    "# Printing the organised class weights    \n",
    "print(weights)\n",
    "\n",
    "# Applying the weights to the learner with the classifier\n",
    "learner =  ktrain.get_learner(model, train_data=trn, val_data=val,batch_size=6)\n",
    "\n",
    "# Finding the optimum learning rate and plotting the loss function\n",
    "learner.lr_find(show_plot=True,max_epochs=5)\n",
    "\n",
    "# Using the optimum learning rate to fit the model for 5 epochs\n",
    "learner.autofit(2e-5, 3,class_weight = weights)"
   ]
  },
  {
   "cell_type": "markdown",
   "metadata": {},
   "source": [
    "As shown in the loss plot and Keras callbacks, the model was trained with the triangular learning rate policy and a maximum learning or $2e^5$ and the final accuracy that was achieved with the fifth epoch is 93%. We can validate the model to view its precision, recall and F1-score by using the `validate` function"
   ]
  },
  {
   "cell_type": "code",
   "execution_count": 20,
   "metadata": {
    "execution": {
     "iopub.execute_input": "2023-06-06T01:35:26.936132Z",
     "iopub.status.busy": "2023-06-06T01:35:26.934972Z",
     "iopub.status.idle": "2023-06-06T01:35:29.667892Z",
     "shell.execute_reply": "2023-06-06T01:35:29.666720Z",
     "shell.execute_reply.started": "2023-06-06T01:35:26.936085Z"
    }
   },
   "outputs": [
    {
     "name": "stdout",
     "output_type": "stream",
     "text": [
      "2/2 [==============================] - 3s 162ms/step\n",
      "              precision    recall  f1-score   support\n",
      "\n",
      "           0       1.00      0.95      0.97        56\n",
      "           1       0.40      1.00      0.57         2\n",
      "\n",
      "    accuracy                           0.95        58\n",
      "   macro avg       0.70      0.97      0.77        58\n",
      "weighted avg       0.98      0.95      0.96        58\n",
      "\n"
     ]
    },
    {
     "data": {
      "text/plain": [
       "array([[53,  3],\n",
       "       [ 0,  2]])"
      ]
     },
     "execution_count": 20,
     "metadata": {},
     "output_type": "execute_result"
    }
   ],
   "source": [
    "# Test the result (You can use this to compare the results, before and after applying weights)\n",
    "learner.validate()"
   ]
  },
  {
   "cell_type": "markdown",
   "metadata": {},
   "source": [
    "The model has achieved an exceptional precision and recall of 98% and 95% respectively. Of all three variations of the DistilBERT model, this third model has outperformed the four machine learning models in terms of identifying Sensemaking and Impact comments vs. the rest."
   ]
  },
  {
   "cell_type": "code",
   "execution_count": 21,
   "metadata": {
    "execution": {
     "iopub.execute_input": "2023-06-06T01:36:19.989775Z",
     "iopub.status.busy": "2023-06-06T01:36:19.989362Z",
     "iopub.status.idle": "2023-06-06T01:36:21.570738Z",
     "shell.execute_reply": "2023-06-06T01:36:21.569727Z",
     "shell.execute_reply.started": "2023-06-06T01:36:19.989742Z"
    }
   },
   "outputs": [],
   "source": [
    "# Saving the Model\n",
    "# Optional Step to demonstrate how to save the model\n",
    "learner.save_model('./SavedModels/DetectSensemakingFutureImpact')\n",
    "predictor = ktrain.get_predictor(learner.model, preproc)\n",
    "predictor.save('./SavedModels/DetectSensemakingFutureImpact')"
   ]
  }
 ],
 "metadata": {
  "kernelspec": {
   "display_name": "Python 3 (ipykernel)",
   "language": "python",
   "name": "python3"
  },
  "language_info": {
   "codemirror_mode": {
    "name": "ipython",
    "version": 3
   },
   "file_extension": ".py",
   "mimetype": "text/x-python",
   "name": "python",
   "nbconvert_exporter": "python",
   "pygments_lexer": "ipython3",
   "version": "3.9.16"
  }
 },
 "nbformat": 4,
 "nbformat_minor": 4
}
