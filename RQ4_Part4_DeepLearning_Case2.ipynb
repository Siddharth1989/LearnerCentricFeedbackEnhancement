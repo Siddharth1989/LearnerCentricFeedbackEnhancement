{
 "cells": [
  {
   "cell_type": "markdown",
   "metadata": {},
   "source": [
    "# RQ4: To what extent can Machine Learning/NLP models identify the sensemaking aspect of feedback?\n",
    "\n",
    "## Part 4: Using DistilBERT To Identify Sensemaking 1 vs. Sensemaking 2\n",
    "\n",
    "In part 4 of RQ4, we are going to use a deep learning algorithm called DistilBERT to train a model to differentiate between the sensemaking 1 and sensemaking 2 rubrics in the feedback text. This uncased DistilBERT model was provided by the Hugging Face AI community. It was customised here to serve the needs of the sensemaking classifications in this study. Reference: [Class Balancing](https://medium.com/@nikviz/bert-handling-class-imbalance-in-language-models-7fe9ccc62cb6)\n",
    "\n",
    "This is a different implementation of DistilBERT by using the Keras training library `ktrain` that sits on top of the Tensorflow Classifer. This is because the data for the second scenario (Sensemaking 1 vs. Sensemaking 2) is not balanced. Therefore we are going to use the `ktrain` library to use class penalty weights. These weights penalise the majority class to prevent it from overwhelm the minority class.\n",
    "\n",
    "We used `SMOTE` in Part 1 and Part 2 of this research question for the machine learning models as it can be used on feature extracted data such as TF-IDF and LIWC. However, DistilBERT has its own encoder that extracts the features from the data. Therefore it accepts natural text which cannot be processed by `SMOTE`. \n",
    "\n",
    "We will also use this method to train the DistilBERT model for the third scenario (Sensemaking and Impact vs. the Rest) given in the Part 5 notebook for RQ4.\n",
    "\n",
    "### 1. Loading the Initial Libraries and the Dataset\n",
    "\n",
    "First, we need to load the initial set of libraries and the feedback data to be used in training the model."
   ]
  },
  {
   "cell_type": "code",
   "execution_count": 1,
   "metadata": {
    "execution": {
     "iopub.execute_input": "2023-06-06T04:18:10.622769Z",
     "iopub.status.busy": "2023-06-06T04:18:10.622240Z",
     "iopub.status.idle": "2023-06-06T04:18:11.459978Z",
     "shell.execute_reply": "2023-06-06T04:18:11.459028Z",
     "shell.execute_reply.started": "2023-06-06T04:18:10.622735Z"
    }
   },
   "outputs": [
    {
     "name": "stdout",
     "output_type": "stream",
     "text": [
      "[nltk_data] Downloading package punkt to /usr/share/nltk_data...\n",
      "[nltk_data]   Package punkt is already up-to-date!\n",
      "[nltk_data] Downloading package stopwords to /usr/share/nltk_data...\n",
      "[nltk_data]   Package stopwords is already up-to-date!\n"
     ]
    },
    {
     "data": {
      "text/plain": [
       "True"
      ]
     },
     "execution_count": 1,
     "metadata": {},
     "output_type": "execute_result"
    }
   ],
   "source": [
    "# Importing the initial libraries\n",
    "import pandas as pd\n",
    "import re\n",
    "import nltk\n",
    "import numpy as np\n",
    "from sklearn.feature_extraction.text import TfidfVectorizer\n",
    "from sklearn.model_selection import train_test_split\n",
    "from sklearn.linear_model import LogisticRegression\n",
    "from sklearn.svm import SVC\n",
    "from sklearn.ensemble import RandomForestClassifier\n",
    "from sklearn.metrics import accuracy_score, classification_report\n",
    "import warnings\n",
    "warnings.filterwarnings('ignore')\n",
    "import nltk\n",
    "nltk.download('punkt')\n",
    "nltk.download('stopwords')"
   ]
  },
  {
   "cell_type": "code",
   "execution_count": 2,
   "metadata": {
    "execution": {
     "iopub.execute_input": "2023-06-06T04:18:16.997051Z",
     "iopub.status.busy": "2023-06-06T04:18:16.996569Z",
     "iopub.status.idle": "2023-06-06T04:18:17.055518Z",
     "shell.execute_reply": "2023-06-06T04:18:17.054573Z",
     "shell.execute_reply.started": "2023-06-06T04:18:16.997015Z"
    }
   },
   "outputs": [
    {
     "data": {
      "text/html": [
       "<div>\n",
       "<style scoped>\n",
       "    .dataframe tbody tr th:only-of-type {\n",
       "        vertical-align: middle;\n",
       "    }\n",
       "\n",
       "    .dataframe tbody tr th {\n",
       "        vertical-align: top;\n",
       "    }\n",
       "\n",
       "    .dataframe thead th {\n",
       "        text-align: right;\n",
       "    }\n",
       "</style>\n",
       "<table border=\"1\" class=\"dataframe\">\n",
       "  <thead>\n",
       "    <tr style=\"text-align: right;\">\n",
       "      <th></th>\n",
       "      <th>SentenceScoreRem</th>\n",
       "      <th>Rubric</th>\n",
       "    </tr>\n",
       "  </thead>\n",
       "  <tbody>\n",
       "    <tr>\n",
       "      <th>0</th>\n",
       "      <td>Yuejing more in depth analysis is required and...</td>\n",
       "      <td>Sensemaking 1&amp;Impact 1</td>\n",
       "    </tr>\n",
       "    <tr>\n",
       "      <th>1</th>\n",
       "      <td>﻿Team 1 requested to re-do their workbook 3 to...</td>\n",
       "      <td>Impact 1</td>\n",
       "    </tr>\n",
       "    <tr>\n",
       "      <th>2</th>\n",
       "      <td>The team submitted the workbook 23 days after ...</td>\n",
       "      <td>Sensemaking 2</td>\n",
       "    </tr>\n",
       "    <tr>\n",
       "      <th>3</th>\n",
       "      <td>Risk assessment and report needs work as discu...</td>\n",
       "      <td>Sensemaking 1</td>\n",
       "    </tr>\n",
       "    <tr>\n",
       "      <th>4</th>\n",
       "      <td>\"Good effort, Please refer to detailed feedbac...</td>\n",
       "      <td>Agency 2&amp;Agency 1</td>\n",
       "    </tr>\n",
       "  </tbody>\n",
       "</table>\n",
       "</div>"
      ],
      "text/plain": [
       "                                    SentenceScoreRem                  Rubric\n",
       "0  Yuejing more in depth analysis is required and...  Sensemaking 1&Impact 1\n",
       "1  ﻿Team 1 requested to re-do their workbook 3 to...                Impact 1\n",
       "2  The team submitted the workbook 23 days after ...           Sensemaking 2\n",
       "3  Risk assessment and report needs work as discu...           Sensemaking 1\n",
       "4  \"Good effort, Please refer to detailed feedbac...       Agency 2&Agency 1"
      ]
     },
     "execution_count": 2,
     "metadata": {},
     "output_type": "execute_result"
    }
   ],
   "source": [
    "# Loading the cleaned and wrangled feedback data\n",
    "data = pd.read_csv('./LabelledFeedback/stage2.csv')\n",
    "\n",
    "# Selecting the relevant columns only\n",
    "data = data[['SentenceScoreRem', 'Rubric']]\n",
    "\n",
    "# Checking the data\n",
    "data.head()"
   ]
  },
  {
   "cell_type": "markdown",
   "metadata": {},
   "source": [
    "### 2. Cleaning the Text and Preparing the Data\n",
    "\n",
    "As was the case with the other models, we can use different NLP techniques such as tokenization and stop word removal to ensure that the model results are not affected by non-contexual words. We can define a function to clean the text."
   ]
  },
  {
   "cell_type": "code",
   "execution_count": 3,
   "metadata": {
    "execution": {
     "iopub.execute_input": "2023-06-06T04:18:18.706794Z",
     "iopub.status.busy": "2023-06-06T04:18:18.706405Z",
     "iopub.status.idle": "2023-06-06T04:18:21.024292Z",
     "shell.execute_reply": "2023-06-06T04:18:21.023220Z",
     "shell.execute_reply.started": "2023-06-06T04:18:18.706764Z"
    }
   },
   "outputs": [
    {
     "data": {
      "text/html": [
       "<div>\n",
       "<style scoped>\n",
       "    .dataframe tbody tr th:only-of-type {\n",
       "        vertical-align: middle;\n",
       "    }\n",
       "\n",
       "    .dataframe tbody tr th {\n",
       "        vertical-align: top;\n",
       "    }\n",
       "\n",
       "    .dataframe thead th {\n",
       "        text-align: right;\n",
       "    }\n",
       "</style>\n",
       "<table border=\"1\" class=\"dataframe\">\n",
       "  <thead>\n",
       "    <tr style=\"text-align: right;\">\n",
       "      <th></th>\n",
       "      <th>text</th>\n",
       "      <th>Rubric</th>\n",
       "    </tr>\n",
       "  </thead>\n",
       "  <tbody>\n",
       "    <tr>\n",
       "      <th>0</th>\n",
       "      <td>yuejing depth analysis required see link key c...</td>\n",
       "      <td>Sensemaking 1&amp;Impact 1</td>\n",
       "    </tr>\n",
       "    <tr>\n",
       "      <th>1</th>\n",
       "      <td>team requested workbook better original mark</td>\n",
       "      <td>Impact 1</td>\n",
       "    </tr>\n",
       "    <tr>\n",
       "      <th>2</th>\n",
       "      <td>team submitted workbook days submission date kv</td>\n",
       "      <td>Sensemaking 2</td>\n",
       "    </tr>\n",
       "    <tr>\n",
       "      <th>3</th>\n",
       "      <td>risk assessment report needs work discussed tu...</td>\n",
       "      <td>Sensemaking 1</td>\n",
       "    </tr>\n",
       "    <tr>\n",
       "      <th>4</th>\n",
       "      <td>good effort please refer detailed feedback fil...</td>\n",
       "      <td>Agency 2&amp;Agency 1</td>\n",
       "    </tr>\n",
       "    <tr>\n",
       "      <th>...</th>\n",
       "      <td>...</td>\n",
       "      <td>...</td>\n",
       "    </tr>\n",
       "    <tr>\n",
       "      <th>5754</th>\n",
       "      <td>q need use english communicate partiularly par...</td>\n",
       "      <td>Impact 1</td>\n",
       "    </tr>\n",
       "    <tr>\n",
       "      <th>5755</th>\n",
       "      <td>part b complicated needed explain rate change ...</td>\n",
       "      <td>Sensemaking 1</td>\n",
       "    </tr>\n",
       "    <tr>\n",
       "      <th>5756</th>\n",
       "      <td>q english exposition required</td>\n",
       "      <td>Impact 2</td>\n",
       "    </tr>\n",
       "    <tr>\n",
       "      <th>5757</th>\n",
       "      <td>made two errors finding determinant part b fin...</td>\n",
       "      <td>Sensemaking 1</td>\n",
       "    </tr>\n",
       "    <tr>\n",
       "      <th>5758</th>\n",
       "      <td>q point two circles intersect coordinates swit...</td>\n",
       "      <td>Sensemaking 1</td>\n",
       "    </tr>\n",
       "  </tbody>\n",
       "</table>\n",
       "<p>5759 rows × 2 columns</p>\n",
       "</div>"
      ],
      "text/plain": [
       "                                                   text  \\\n",
       "0     yuejing depth analysis required see link key c...   \n",
       "1          team requested workbook better original mark   \n",
       "2       team submitted workbook days submission date kv   \n",
       "3     risk assessment report needs work discussed tu...   \n",
       "4     good effort please refer detailed feedback fil...   \n",
       "...                                                 ...   \n",
       "5754  q need use english communicate partiularly par...   \n",
       "5755  part b complicated needed explain rate change ...   \n",
       "5756                      q english exposition required   \n",
       "5757  made two errors finding determinant part b fin...   \n",
       "5758  q point two circles intersect coordinates swit...   \n",
       "\n",
       "                      Rubric  \n",
       "0     Sensemaking 1&Impact 1  \n",
       "1                   Impact 1  \n",
       "2              Sensemaking 2  \n",
       "3              Sensemaking 1  \n",
       "4          Agency 2&Agency 1  \n",
       "...                      ...  \n",
       "5754                Impact 1  \n",
       "5755           Sensemaking 1  \n",
       "5756                Impact 2  \n",
       "5757           Sensemaking 1  \n",
       "5758           Sensemaking 1  \n",
       "\n",
       "[5759 rows x 2 columns]"
      ]
     },
     "execution_count": 3,
     "metadata": {},
     "output_type": "execute_result"
    }
   ],
   "source": [
    "# Defining a function to clean the feedback text\n",
    "def clean_text(text):\n",
    "    text = re.sub(r'[^a-zA-Z]', ' ', text.lower())\n",
    "    tokens = nltk.word_tokenize(text)\n",
    "    stopwords = nltk.corpus.stopwords.words('english')\n",
    "    filtered_tokens = [token for token in tokens if token not in stopwords]\n",
    "    clean_text = ' '.join(filtered_tokens)\n",
    "    return clean_text\n",
    "\n",
    "# Applying the function to the data\n",
    "data['text'] = data['SentenceScoreRem'].apply(clean_text)\n",
    "\n",
    "# Splitting the preprocessed data into features and target variable\n",
    "features = data['text']\n",
    "target = data['Rubric']\n",
    "\n",
    "# Checking the cleaned data\n",
    "data[['text', 'Rubric']]"
   ]
  },
  {
   "cell_type": "markdown",
   "metadata": {},
   "source": [
    "As we can see in the above view, we have created a new column containing the clean text. Next, let us filter the data to include the sensemaking columns. Additionally, since we are trying to classify the data between sensemaking 1 and sensemaking 2, we need to remove the rows where both of them are present in the text."
   ]
  },
  {
   "cell_type": "code",
   "execution_count": 4,
   "metadata": {
    "execution": {
     "iopub.execute_input": "2023-06-06T04:18:26.224116Z",
     "iopub.status.busy": "2023-06-06T04:18:26.223538Z",
     "iopub.status.idle": "2023-06-06T04:18:26.234334Z",
     "shell.execute_reply": "2023-06-06T04:18:26.233167Z",
     "shell.execute_reply.started": "2023-06-06T04:18:26.224079Z"
    }
   },
   "outputs": [],
   "source": [
    "# Filtering the data to only include the sensemaking rubrics and combinations\n",
    "df_sensemaking = data[data[\"Rubric\"].str.contains(\"Sensemaking\")]"
   ]
  },
  {
   "cell_type": "code",
   "execution_count": 5,
   "metadata": {
    "execution": {
     "iopub.execute_input": "2023-06-06T04:18:48.237249Z",
     "iopub.status.busy": "2023-06-06T04:18:48.236578Z",
     "iopub.status.idle": "2023-06-06T04:18:48.242541Z",
     "shell.execute_reply": "2023-06-06T04:18:48.241504Z",
     "shell.execute_reply.started": "2023-06-06T04:18:48.237217Z"
    }
   },
   "outputs": [
    {
     "name": "stdout",
     "output_type": "stream",
     "text": [
      "['Sensemaking 1&Impact 1' 'Sensemaking 2' 'Sensemaking 1'\n",
      " 'Sensemaking 1&Impact 2' 'Agency 2&Sensemaking 1'\n",
      " 'Sensemaking 2&Sensemaking 1' 'Sensemaking 2&Impact 2'\n",
      " 'Sensemaking 1&Sensemaking 2' 'Sensemaking 1&Impact 3'\n",
      " 'Sensemaking 2&Impact 1' 'Impact 1&Sensemaking 1'\n",
      " 'Sensemaking 1&Agency 1' 'Agency 2&Sensemaking 2'\n",
      " 'Sensemaking 1&Agency 2' 'Impact 2&Sensemaking 1'\n",
      " 'Sensemaking 2&Agency 2' 'Agency 1&Sensemaking 1'\n",
      " 'Impact 3&Sensemaking 1' 'Agency 3&Sensemaking 1'\n",
      " 'Sensemaking 2&Agency 3' 'Agency 2&Sensemaking 1&Impact 1'\n",
      " 'Sensemaking 2&Agency 1' 'Agency 2&Sensemaking 1&Agency 1'\n",
      " 'Sensemaking 2&Sensemaking 1&Impact 1' 'Sensemaking 1&Impact 1&Agency 2']\n"
     ]
    }
   ],
   "source": [
    "# Checking the filtered data\n",
    "print(df_sensemaking['Rubric'].unique())"
   ]
  },
  {
   "cell_type": "code",
   "execution_count": 6,
   "metadata": {
    "execution": {
     "iopub.execute_input": "2023-06-06T04:18:49.828229Z",
     "iopub.status.busy": "2023-06-06T04:18:49.827557Z",
     "iopub.status.idle": "2023-06-06T04:18:49.839590Z",
     "shell.execute_reply": "2023-06-06T04:18:49.838693Z",
     "shell.execute_reply.started": "2023-06-06T04:18:49.828193Z"
    }
   },
   "outputs": [],
   "source": [
    "# Removing the texts which have the Sensemaking 1 and Sensemaking 2 rubrics together\n",
    "df_sensemaking = df_sensemaking[~df_sensemaking['Rubric'].str.contains('Sensemaking 2&Sensemaking 1')]\n",
    "df_sensemaking = df_sensemaking[~df_sensemaking['Rubric'].str.contains('Sensemaking 1&Sensemaking 2')]"
   ]
  },
  {
   "cell_type": "code",
   "execution_count": 7,
   "metadata": {
    "execution": {
     "iopub.execute_input": "2023-06-06T04:18:52.281044Z",
     "iopub.status.busy": "2023-06-06T04:18:52.280634Z",
     "iopub.status.idle": "2023-06-06T04:18:52.287345Z",
     "shell.execute_reply": "2023-06-06T04:18:52.286435Z",
     "shell.execute_reply.started": "2023-06-06T04:18:52.281016Z"
    }
   },
   "outputs": [
    {
     "name": "stdout",
     "output_type": "stream",
     "text": [
      "['Sensemaking 1&Impact 1' 'Sensemaking 2' 'Sensemaking 1'\n",
      " 'Sensemaking 1&Impact 2' 'Agency 2&Sensemaking 1'\n",
      " 'Sensemaking 2&Impact 2' 'Sensemaking 1&Impact 3'\n",
      " 'Sensemaking 2&Impact 1' 'Impact 1&Sensemaking 1'\n",
      " 'Sensemaking 1&Agency 1' 'Agency 2&Sensemaking 2'\n",
      " 'Sensemaking 1&Agency 2' 'Impact 2&Sensemaking 1'\n",
      " 'Sensemaking 2&Agency 2' 'Agency 1&Sensemaking 1'\n",
      " 'Impact 3&Sensemaking 1' 'Agency 3&Sensemaking 1'\n",
      " 'Sensemaking 2&Agency 3' 'Agency 2&Sensemaking 1&Impact 1'\n",
      " 'Sensemaking 2&Agency 1' 'Agency 2&Sensemaking 1&Agency 1'\n",
      " 'Sensemaking 1&Impact 1&Agency 2']\n"
     ]
    }
   ],
   "source": [
    "# Checking the filtered data\n",
    "print(df_sensemaking['Rubric'].unique())"
   ]
  },
  {
   "cell_type": "markdown",
   "metadata": {},
   "source": [
    "Next, we will define a function to create the target variable for this case. The target variable will contain a 1 if the text contains the Sensemaking 1 rubric and 0 otherwise meaning that the Sensemaking 2 rubric is present instead."
   ]
  },
  {
   "cell_type": "code",
   "execution_count": 8,
   "metadata": {
    "execution": {
     "iopub.execute_input": "2023-06-06T04:19:36.056841Z",
     "iopub.status.busy": "2023-06-06T04:19:36.055816Z",
     "iopub.status.idle": "2023-06-06T04:19:36.074738Z",
     "shell.execute_reply": "2023-06-06T04:19:36.073786Z",
     "shell.execute_reply.started": "2023-06-06T04:19:36.056792Z"
    }
   },
   "outputs": [
    {
     "data": {
      "text/html": [
       "<div>\n",
       "<style scoped>\n",
       "    .dataframe tbody tr th:only-of-type {\n",
       "        vertical-align: middle;\n",
       "    }\n",
       "\n",
       "    .dataframe tbody tr th {\n",
       "        vertical-align: top;\n",
       "    }\n",
       "\n",
       "    .dataframe thead th {\n",
       "        text-align: right;\n",
       "    }\n",
       "</style>\n",
       "<table border=\"1\" class=\"dataframe\">\n",
       "  <thead>\n",
       "    <tr style=\"text-align: right;\">\n",
       "      <th></th>\n",
       "      <th>text</th>\n",
       "      <th>Rubric</th>\n",
       "      <th>label</th>\n",
       "    </tr>\n",
       "  </thead>\n",
       "  <tbody>\n",
       "    <tr>\n",
       "      <th>0</th>\n",
       "      <td>yuejing depth analysis required see link key c...</td>\n",
       "      <td>Sensemaking 1&amp;Impact 1</td>\n",
       "      <td>1</td>\n",
       "    </tr>\n",
       "    <tr>\n",
       "      <th>2</th>\n",
       "      <td>team submitted workbook days submission date kv</td>\n",
       "      <td>Sensemaking 2</td>\n",
       "      <td>0</td>\n",
       "    </tr>\n",
       "    <tr>\n",
       "      <th>3</th>\n",
       "      <td>risk assessment report needs work discussed tu...</td>\n",
       "      <td>Sensemaking 1</td>\n",
       "      <td>1</td>\n",
       "    </tr>\n",
       "    <tr>\n",
       "      <th>6</th>\n",
       "      <td>lacked depth detail</td>\n",
       "      <td>Sensemaking 1</td>\n",
       "      <td>1</td>\n",
       "    </tr>\n",
       "    <tr>\n",
       "      <th>7</th>\n",
       "      <td>failed cite use prescribed texts answers simpl...</td>\n",
       "      <td>Sensemaking 2</td>\n",
       "      <td>0</td>\n",
       "    </tr>\n",
       "    <tr>\n",
       "      <th>...</th>\n",
       "      <td>...</td>\n",
       "      <td>...</td>\n",
       "      <td>...</td>\n",
       "    </tr>\n",
       "    <tr>\n",
       "      <th>5751</th>\n",
       "      <td>q f x g x incorrect shown found stationary poi...</td>\n",
       "      <td>Sensemaking 1</td>\n",
       "      <td>1</td>\n",
       "    </tr>\n",
       "    <tr>\n",
       "      <th>5753</th>\n",
       "      <td>part c actually still part b part c required c...</td>\n",
       "      <td>Sensemaking 1&amp;Impact 1</td>\n",
       "      <td>1</td>\n",
       "    </tr>\n",
       "    <tr>\n",
       "      <th>5755</th>\n",
       "      <td>part b complicated needed explain rate change ...</td>\n",
       "      <td>Sensemaking 1</td>\n",
       "      <td>1</td>\n",
       "    </tr>\n",
       "    <tr>\n",
       "      <th>5757</th>\n",
       "      <td>made two errors finding determinant part b fin...</td>\n",
       "      <td>Sensemaking 1</td>\n",
       "      <td>1</td>\n",
       "    </tr>\n",
       "    <tr>\n",
       "      <th>5758</th>\n",
       "      <td>q point two circles intersect coordinates swit...</td>\n",
       "      <td>Sensemaking 1</td>\n",
       "      <td>1</td>\n",
       "    </tr>\n",
       "  </tbody>\n",
       "</table>\n",
       "<p>3157 rows × 3 columns</p>\n",
       "</div>"
      ],
      "text/plain": [
       "                                                   text  \\\n",
       "0     yuejing depth analysis required see link key c...   \n",
       "2       team submitted workbook days submission date kv   \n",
       "3     risk assessment report needs work discussed tu...   \n",
       "6                                   lacked depth detail   \n",
       "7     failed cite use prescribed texts answers simpl...   \n",
       "...                                                 ...   \n",
       "5751  q f x g x incorrect shown found stationary poi...   \n",
       "5753  part c actually still part b part c required c...   \n",
       "5755  part b complicated needed explain rate change ...   \n",
       "5757  made two errors finding determinant part b fin...   \n",
       "5758  q point two circles intersect coordinates swit...   \n",
       "\n",
       "                      Rubric  label  \n",
       "0     Sensemaking 1&Impact 1      1  \n",
       "2              Sensemaking 2      0  \n",
       "3              Sensemaking 1      1  \n",
       "6              Sensemaking 1      1  \n",
       "7              Sensemaking 2      0  \n",
       "...                      ...    ...  \n",
       "5751           Sensemaking 1      1  \n",
       "5753  Sensemaking 1&Impact 1      1  \n",
       "5755           Sensemaking 1      1  \n",
       "5757           Sensemaking 1      1  \n",
       "5758           Sensemaking 1      1  \n",
       "\n",
       "[3157 rows x 3 columns]"
      ]
     },
     "execution_count": 8,
     "metadata": {},
     "output_type": "execute_result"
    }
   ],
   "source": [
    "# Defining a function to create the target variable\n",
    "def sensemaking(rub):\n",
    "\n",
    "    if 'Sensemaking 1' in rub:\n",
    "\n",
    "        return 1\n",
    "\n",
    "    else:\n",
    "\n",
    "        return 0\n",
    "\n",
    "# Applying the above function to the data    \n",
    "df_sensemaking['label'] = df_sensemaking['Rubric'].apply(lambda x : sensemaking(x))\n",
    "\n",
    "# Checking the new column\n",
    "df_sensemaking[['text', 'Rubric', 'label']]"
   ]
  },
  {
   "cell_type": "code",
   "execution_count": 9,
   "metadata": {
    "execution": {
     "iopub.execute_input": "2023-06-06T04:19:40.877558Z",
     "iopub.status.busy": "2023-06-06T04:19:40.877197Z",
     "iopub.status.idle": "2023-06-06T04:19:40.882225Z",
     "shell.execute_reply": "2023-06-06T04:19:40.881328Z",
     "shell.execute_reply.started": "2023-06-06T04:19:40.877528Z"
    }
   },
   "outputs": [],
   "source": [
    "# Separately storing the features and the label\n",
    "features = df_sensemaking['text']\n",
    "target = df_sensemaking['label']"
   ]
  },
  {
   "cell_type": "code",
   "execution_count": 15,
   "metadata": {
    "execution": {
     "iopub.execute_input": "2023-06-06T04:21:52.803839Z",
     "iopub.status.busy": "2023-06-06T04:21:52.803460Z",
     "iopub.status.idle": "2023-06-06T04:21:52.812206Z",
     "shell.execute_reply": "2023-06-06T04:21:52.811227Z",
     "shell.execute_reply.started": "2023-06-06T04:21:52.803808Z"
    }
   },
   "outputs": [
    {
     "data": {
      "text/plain": [
       "1    2733\n",
       "0     424\n",
       "Name: label, dtype: int64"
      ]
     },
     "execution_count": 15,
     "metadata": {},
     "output_type": "execute_result"
    }
   ],
   "source": [
    "# Checking the value counts of the target variable\n",
    "df_sensemaking['label'].value_counts()"
   ]
  },
  {
   "cell_type": "markdown",
   "metadata": {},
   "source": [
    "As shown by the value counts above, there is a severe imbalance in the data. Unlike the technique used for the machine learning models, we will be using class weights with Keras and Tensorflow. First, let us install and import the `ktrain` library that is required for this."
   ]
  },
  {
   "cell_type": "code",
   "execution_count": 11,
   "metadata": {
    "execution": {
     "iopub.execute_input": "2023-06-06T04:20:02.298426Z",
     "iopub.status.busy": "2023-06-06T04:20:02.298071Z",
     "iopub.status.idle": "2023-06-06T04:20:13.578037Z",
     "shell.execute_reply": "2023-06-06T04:20:13.576736Z",
     "shell.execute_reply.started": "2023-06-06T04:20:02.298397Z"
    }
   },
   "outputs": [
    {
     "name": "stdout",
     "output_type": "stream",
     "text": [
      "Requirement already satisfied: ktrain in /opt/conda/lib/python3.10/site-packages (0.37.1)\n",
      "Requirement already satisfied: scikit-learn in /opt/conda/lib/python3.10/site-packages (from ktrain) (1.2.2)\n",
      "Requirement already satisfied: matplotlib>=3.0.0 in /opt/conda/lib/python3.10/site-packages (from ktrain) (3.6.3)\n",
      "Requirement already satisfied: pandas>=1.0.1 in /opt/conda/lib/python3.10/site-packages (from ktrain) (1.5.3)\n",
      "Requirement already satisfied: fastprogress>=0.1.21 in /opt/conda/lib/python3.10/site-packages (from ktrain) (1.0.3)\n",
      "Requirement already satisfied: requests in /opt/conda/lib/python3.10/site-packages (from ktrain) (2.28.2)\n",
      "Requirement already satisfied: joblib in /opt/conda/lib/python3.10/site-packages (from ktrain) (1.2.0)\n",
      "Requirement already satisfied: packaging in /opt/conda/lib/python3.10/site-packages (from ktrain) (21.3)\n",
      "Requirement already satisfied: langdetect in /opt/conda/lib/python3.10/site-packages (from ktrain) (1.0.9)\n",
      "Requirement already satisfied: jieba in /opt/conda/lib/python3.10/site-packages (from ktrain) (0.42.1)\n",
      "Requirement already satisfied: cchardet in /opt/conda/lib/python3.10/site-packages (from ktrain) (2.1.7)\n",
      "Requirement already satisfied: chardet in /opt/conda/lib/python3.10/site-packages (from ktrain) (5.1.0)\n",
      "Requirement already satisfied: syntok>1.3.3 in /opt/conda/lib/python3.10/site-packages (from ktrain) (1.4.4)\n",
      "Requirement already satisfied: tika in /opt/conda/lib/python3.10/site-packages (from ktrain) (2.6.0)\n",
      "Requirement already satisfied: transformers>=4.17.0 in /opt/conda/lib/python3.10/site-packages (from ktrain) (4.29.2)\n",
      "Requirement already satisfied: sentencepiece in /opt/conda/lib/python3.10/site-packages (from ktrain) (0.1.99)\n",
      "Requirement already satisfied: keras-bert>=0.86.0 in /opt/conda/lib/python3.10/site-packages (from ktrain) (0.89.0)\n",
      "Requirement already satisfied: whoosh in /opt/conda/lib/python3.10/site-packages (from ktrain) (2.7.4)\n",
      "Requirement already satisfied: numpy in /opt/conda/lib/python3.10/site-packages (from keras-bert>=0.86.0->ktrain) (1.23.5)\n",
      "Requirement already satisfied: keras-transformer==0.40.0 in /opt/conda/lib/python3.10/site-packages (from keras-bert>=0.86.0->ktrain) (0.40.0)\n",
      "Requirement already satisfied: keras-pos-embd==0.13.0 in /opt/conda/lib/python3.10/site-packages (from keras-transformer==0.40.0->keras-bert>=0.86.0->ktrain) (0.13.0)\n",
      "Requirement already satisfied: keras-multi-head==0.29.0 in /opt/conda/lib/python3.10/site-packages (from keras-transformer==0.40.0->keras-bert>=0.86.0->ktrain) (0.29.0)\n",
      "Requirement already satisfied: keras-layer-normalization==0.16.0 in /opt/conda/lib/python3.10/site-packages (from keras-transformer==0.40.0->keras-bert>=0.86.0->ktrain) (0.16.0)\n",
      "Requirement already satisfied: keras-position-wise-feed-forward==0.8.0 in /opt/conda/lib/python3.10/site-packages (from keras-transformer==0.40.0->keras-bert>=0.86.0->ktrain) (0.8.0)\n",
      "Requirement already satisfied: keras-embed-sim==0.10.0 in /opt/conda/lib/python3.10/site-packages (from keras-transformer==0.40.0->keras-bert>=0.86.0->ktrain) (0.10.0)\n",
      "Requirement already satisfied: keras-self-attention==0.51.0 in /opt/conda/lib/python3.10/site-packages (from keras-multi-head==0.29.0->keras-transformer==0.40.0->keras-bert>=0.86.0->ktrain) (0.51.0)\n",
      "Requirement already satisfied: contourpy>=1.0.1 in /opt/conda/lib/python3.10/site-packages (from matplotlib>=3.0.0->ktrain) (1.0.7)\n",
      "Requirement already satisfied: cycler>=0.10 in /opt/conda/lib/python3.10/site-packages (from matplotlib>=3.0.0->ktrain) (0.11.0)\n",
      "Requirement already satisfied: fonttools>=4.22.0 in /opt/conda/lib/python3.10/site-packages (from matplotlib>=3.0.0->ktrain) (4.39.3)\n",
      "Requirement already satisfied: kiwisolver>=1.0.1 in /opt/conda/lib/python3.10/site-packages (from matplotlib>=3.0.0->ktrain) (1.4.4)\n",
      "Requirement already satisfied: pillow>=6.2.0 in /opt/conda/lib/python3.10/site-packages (from matplotlib>=3.0.0->ktrain) (9.5.0)\n",
      "Requirement already satisfied: pyparsing>=2.2.1 in /opt/conda/lib/python3.10/site-packages (from matplotlib>=3.0.0->ktrain) (3.0.9)\n",
      "Requirement already satisfied: python-dateutil>=2.7 in /opt/conda/lib/python3.10/site-packages (from matplotlib>=3.0.0->ktrain) (2.8.2)\n",
      "Requirement already satisfied: pytz>=2020.1 in /opt/conda/lib/python3.10/site-packages (from pandas>=1.0.1->ktrain) (2023.3)\n",
      "Requirement already satisfied: regex>2016 in /opt/conda/lib/python3.10/site-packages (from syntok>1.3.3->ktrain) (2023.5.5)\n",
      "Requirement already satisfied: filelock in /opt/conda/lib/python3.10/site-packages (from transformers>=4.17.0->ktrain) (3.12.0)\n",
      "Requirement already satisfied: huggingface-hub<1.0,>=0.14.1 in /opt/conda/lib/python3.10/site-packages (from transformers>=4.17.0->ktrain) (0.14.1)\n",
      "Requirement already satisfied: pyyaml>=5.1 in /opt/conda/lib/python3.10/site-packages (from transformers>=4.17.0->ktrain) (5.4.1)\n",
      "Requirement already satisfied: tokenizers!=0.11.3,<0.14,>=0.11.1 in /opt/conda/lib/python3.10/site-packages (from transformers>=4.17.0->ktrain) (0.13.3)\n",
      "Requirement already satisfied: tqdm>=4.27 in /opt/conda/lib/python3.10/site-packages (from transformers>=4.17.0->ktrain) (4.64.1)\n",
      "Requirement already satisfied: six in /opt/conda/lib/python3.10/site-packages (from langdetect->ktrain) (1.16.0)\n",
      "Requirement already satisfied: charset-normalizer<4,>=2 in /opt/conda/lib/python3.10/site-packages (from requests->ktrain) (2.1.1)\n",
      "Requirement already satisfied: idna<4,>=2.5 in /opt/conda/lib/python3.10/site-packages (from requests->ktrain) (3.4)\n",
      "Requirement already satisfied: urllib3<1.27,>=1.21.1 in /opt/conda/lib/python3.10/site-packages (from requests->ktrain) (1.26.15)\n",
      "Requirement already satisfied: certifi>=2017.4.17 in /opt/conda/lib/python3.10/site-packages (from requests->ktrain) (2023.5.7)\n",
      "Requirement already satisfied: scipy>=1.3.2 in /opt/conda/lib/python3.10/site-packages (from scikit-learn->ktrain) (1.10.1)\n",
      "Requirement already satisfied: threadpoolctl>=2.0.0 in /opt/conda/lib/python3.10/site-packages (from scikit-learn->ktrain) (3.1.0)\n",
      "Requirement already satisfied: setuptools in /opt/conda/lib/python3.10/site-packages (from tika->ktrain) (59.8.0)\n",
      "Requirement already satisfied: fsspec in /opt/conda/lib/python3.10/site-packages (from huggingface-hub<1.0,>=0.14.1->transformers>=4.17.0->ktrain) (2023.5.0)\n",
      "Requirement already satisfied: typing-extensions>=3.7.4.3 in /opt/conda/lib/python3.10/site-packages (from huggingface-hub<1.0,>=0.14.1->transformers>=4.17.0->ktrain) (4.5.0)\n",
      "\u001b[33mWARNING: Running pip as the 'root' user can result in broken permissions and conflicting behaviour with the system package manager. It is recommended to use a virtual environment instead: https://pip.pypa.io/warnings/venv\u001b[0m\u001b[33m\n",
      "\u001b[0mNote: you may need to restart the kernel to use updated packages.\n"
     ]
    }
   ],
   "source": [
    "# Installing the ktrain library\n",
    "pip install ktrain"
   ]
  },
  {
   "cell_type": "code",
   "execution_count": 12,
   "metadata": {
    "execution": {
     "iopub.execute_input": "2023-06-06T04:20:56.576686Z",
     "iopub.status.busy": "2023-06-06T04:20:56.576280Z",
     "iopub.status.idle": "2023-06-06T04:21:00.087295Z",
     "shell.execute_reply": "2023-06-06T04:21:00.086093Z",
     "shell.execute_reply.started": "2023-06-06T04:20:56.576639Z"
    }
   },
   "outputs": [],
   "source": [
    "# Importing the required libraries including ktrain\n",
    "#Reference: https://towardsdatascience.com/ktrain-a-lightweight-wrapper-for-keras-to-help-train-neural-networks-82851ba889c\n",
    "import ktrain\n",
    "from sklearn.model_selection import train_test_split"
   ]
  },
  {
   "cell_type": "markdown",
   "metadata": {},
   "source": [
    "We are going to start the process of preparing the data and the ktrain preprocessor. Simultaneously, we will also split the data into the training set and validation sets."
   ]
  },
  {
   "cell_type": "code",
   "execution_count": 16,
   "metadata": {
    "execution": {
     "iopub.execute_input": "2023-06-06T04:22:10.561663Z",
     "iopub.status.busy": "2023-06-06T04:22:10.561237Z",
     "iopub.status.idle": "2023-06-06T04:22:10.571797Z",
     "shell.execute_reply": "2023-06-06T04:22:10.570926Z",
     "shell.execute_reply.started": "2023-06-06T04:22:10.561629Z"
    }
   },
   "outputs": [],
   "source": [
    "# Creating a list containing a set of the two classes\n",
    "classes =  list(set(df_sensemaking.label))\n",
    "\n",
    "# Splitting the data into training and validation test sets\n",
    "X_train, X_test, y_train, y_test = train_test_split(df_sensemaking.text, df_sensemaking.label, test_size=0.02, random_state=42)"
   ]
  },
  {
   "cell_type": "code",
   "execution_count": 17,
   "metadata": {
    "execution": {
     "iopub.execute_input": "2023-06-06T04:22:13.854601Z",
     "iopub.status.busy": "2023-06-06T04:22:13.854232Z",
     "iopub.status.idle": "2023-06-06T04:22:13.864963Z",
     "shell.execute_reply": "2023-06-06T04:22:13.863862Z",
     "shell.execute_reply.started": "2023-06-06T04:22:13.854568Z"
    }
   },
   "outputs": [
    {
     "data": {
      "text/plain": [
       "1    2677\n",
       "0     416\n",
       "Name: label, dtype: int64"
      ]
     },
     "execution_count": 17,
     "metadata": {},
     "output_type": "execute_result"
    }
   ],
   "source": [
    "# Checking the value counts of the training data\n",
    "y_train.value_counts()"
   ]
  },
  {
   "cell_type": "markdown",
   "metadata": {},
   "source": [
    "`ktrain` has a function called text that will help preprocess the feedback text. We can load the text into the text preprocessor and create an array containing the preprocessed text with our intended parameters."
   ]
  },
  {
   "cell_type": "code",
   "execution_count": 18,
   "metadata": {
    "execution": {
     "iopub.execute_input": "2023-06-06T04:22:19.611474Z",
     "iopub.status.busy": "2023-06-06T04:22:19.611114Z",
     "iopub.status.idle": "2023-06-06T04:22:28.546823Z",
     "shell.execute_reply": "2023-06-06T04:22:28.545831Z",
     "shell.execute_reply.started": "2023-06-06T04:22:19.611443Z"
    }
   },
   "outputs": [
    {
     "name": "stdout",
     "output_type": "stream",
     "text": [
      "preprocessing train...\n",
      "language: en\n",
      "train sequence lengths:\n",
      "\tmean : 10\n",
      "\t95percentile : 28\n",
      "\t99percentile : 43\n"
     ]
    },
    {
     "data": {
      "text/html": [
       "\n",
       "<style>\n",
       "    /* Turns off some styling */\n",
       "    progress {\n",
       "        /* gets rid of default border in Firefox and Opera. */\n",
       "        border: none;\n",
       "        /* Needs to be in here for Safari polyfill so background images work as expected. */\n",
       "        background-size: auto;\n",
       "    }\n",
       "    progress:not([value]), progress:not([value])::-webkit-progress-bar {\n",
       "        background: repeating-linear-gradient(45deg, #7e7e7e, #7e7e7e 10px, #5c5c5c 10px, #5c5c5c 20px);\n",
       "    }\n",
       "    .progress-bar-interrupted, .progress-bar-interrupted::-webkit-progress-bar {\n",
       "        background: #F44336;\n",
       "    }\n",
       "</style>\n"
      ],
      "text/plain": [
       "<IPython.core.display.HTML object>"
      ]
     },
     "metadata": {},
     "output_type": "display_data"
    },
    {
     "data": {
      "text/html": [],
      "text/plain": [
       "<IPython.core.display.HTML object>"
      ]
     },
     "metadata": {},
     "output_type": "display_data"
    },
    {
     "name": "stdout",
     "output_type": "stream",
     "text": [
      "Is Multi-Label? False\n",
      "preprocessing test...\n",
      "language: en\n",
      "test sequence lengths:\n",
      "\tmean : 11\n",
      "\t95percentile : 25\n",
      "\t99percentile : 30\n"
     ]
    },
    {
     "data": {
      "text/html": [
       "\n",
       "<style>\n",
       "    /* Turns off some styling */\n",
       "    progress {\n",
       "        /* gets rid of default border in Firefox and Opera. */\n",
       "        border: none;\n",
       "        /* Needs to be in here for Safari polyfill so background images work as expected. */\n",
       "        background-size: auto;\n",
       "    }\n",
       "    progress:not([value]), progress:not([value])::-webkit-progress-bar {\n",
       "        background: repeating-linear-gradient(45deg, #7e7e7e, #7e7e7e 10px, #5c5c5c 10px, #5c5c5c 20px);\n",
       "    }\n",
       "    .progress-bar-interrupted, .progress-bar-interrupted::-webkit-progress-bar {\n",
       "        background: #F44336;\n",
       "    }\n",
       "</style>\n"
      ],
      "text/plain": [
       "<IPython.core.display.HTML object>"
      ]
     },
     "metadata": {},
     "output_type": "display_data"
    },
    {
     "data": {
      "text/html": [],
      "text/plain": [
       "<IPython.core.display.HTML object>"
      ]
     },
     "metadata": {},
     "output_type": "display_data"
    },
    {
     "name": "stdout",
     "output_type": "stream",
     "text": [
      "task: text classification\n",
      "Is Multi-Label? False\n",
      "maxlen is 350\n",
      "done.\n"
     ]
    }
   ],
   "source": [
    "# Importing the necessary module\n",
    "from ktrain import text\n",
    "\n",
    "# Preprocessing the text\n",
    "trn, val, preproc = text.texts_from_array(x_train=X_train.values, y_train=y_train.values,\n",
    "                                          x_test=X_test.values, y_test=y_test.values,\n",
    "                                                                   class_names=classes,\n",
    "                                                                   val_pct=0.1, \n",
    "                                                                   max_features=30000, \n",
    "                                                                   maxlen=350,\n",
    "                                                                   preprocess_mode='distilbert',\n",
    "                                                                   ngram_range=1)\n",
    "\n",
    "# Building the tensorflow model with the keras preprocessed text \n",
    "model = text.text_classifier('distilbert', train_data=trn, preproc=preproc)"
   ]
  },
  {
   "cell_type": "markdown",
   "metadata": {},
   "source": [
    "### 3. Training the Model and Finding the Best Learning Rate\n",
    "\n",
    "In this next phase, we will setup the class weights with the help of `sklearn.utils`. Once we have created them, we can use them and the preprocessing data to fit the model trainer. We will use the `learner` function to find the best loss function aka the most optimum learning rate from multiple trainers and select the best model."
   ]
  },
  {
   "cell_type": "code",
   "execution_count": 19,
   "metadata": {
    "execution": {
     "iopub.execute_input": "2023-06-06T04:22:35.046085Z",
     "iopub.status.busy": "2023-06-06T04:22:35.045586Z",
     "iopub.status.idle": "2023-06-06T04:31:35.676594Z",
     "shell.execute_reply": "2023-06-06T04:31:35.675666Z",
     "shell.execute_reply.started": "2023-06-06T04:22:35.045954Z"
    }
   },
   "outputs": [
    {
     "name": "stdout",
     "output_type": "stream",
     "text": [
      "[3.71754808 0.57769892]\n",
      "{0: 3.717548076923077, 1: 0.577698916697796}\n",
      "simulating training for different learning rates... this may take a few moments...\n",
      "Epoch 1/5\n",
      "515/515 [==============================] - 93s 155ms/step - loss: 0.5495 - accuracy: 0.6945\n",
      "Epoch 2/5\n",
      "515/515 [==============================] - 79s 154ms/step - loss: 0.2892 - accuracy: 0.8980\n",
      "Epoch 3/5\n",
      "515/515 [==============================] - 79s 154ms/step - loss: 0.4258 - accuracy: 0.8711\n",
      "Epoch 4/5\n",
      "515/515 [==============================] - 35s 67ms/step - loss: 1.5701 - accuracy: 0.8101\n",
      "\n",
      "\n",
      "done.\n",
      "Visually inspect loss plot and select learning rate associated with falling loss\n"
     ]
    },
    {
     "data": {
      "image/png": "[encoded data removed]",
      "text/plain": [
       "<Figure size 640x480 with 1 Axes>"
      ]
     },
     "metadata": {},
     "output_type": "display_data"
    },
    {
     "name": "stdout",
     "output_type": "stream",
     "text": [
      "\n",
      "\n",
      "begin training using triangular learning rate policy with max lr of 2e-05...\n",
      "Epoch 1/3\n",
      "516/516 [==============================] - 91s 159ms/step - loss: 0.4835 - accuracy: 0.7740 - val_loss: 0.4616 - val_accuracy: 0.7500\n",
      "Epoch 2/3\n",
      "516/516 [==============================] - 80s 155ms/step - loss: 0.2810 - accuracy: 0.8943 - val_loss: 0.4982 - val_accuracy: 0.8281\n",
      "Epoch 3/3\n",
      "516/516 [==============================] - 80s 154ms/step - loss: 0.1955 - accuracy: 0.9315 - val_loss: 0.4119 - val_accuracy: 0.8125\n"
     ]
    },
    {
     "data": {
      "text/plain": [
       "<keras.callbacks.History at 0x7b034484c400>"
      ]
     },
     "execution_count": 19,
     "metadata": {},
     "output_type": "execute_result"
    }
   ],
   "source": [
    "# Importing the necessary module to help us create the class weights\n",
    "#from sklearn.utils import class_weight\n",
    "import sklearn.utils as ut\n",
    "\n",
    "# Creating weights to handle class imbalance\n",
    "class_weights = ut.compute_class_weight(\n",
    "                                        class_weight = \"balanced\",\n",
    "                                        classes = np.unique(y_train),\n",
    "                                        y = y_train                                                    \n",
    "                                    )\n",
    "\n",
    "# Printing the class weights\n",
    "print(class_weights)\n",
    "\n",
    "# Empty dictionary to store the weights\n",
    "weights={}\n",
    "\n",
    "# For loop to store the weights and their indexes in the dictionary\n",
    "for index, weight in enumerate(class_weights) :\n",
    "    weights[index]=weight\n",
    "\n",
    "# Printing the enumerated weights    \n",
    "print(weights)\n",
    "\n",
    "# Applying the weights to the learner\n",
    "learner =  ktrain.get_learner(model, train_data=trn, val_data=val,batch_size=6)\n",
    "\n",
    "# Finding the learning rate\n",
    "learner.lr_find(show_plot=True,max_epochs=5)\n",
    "\n",
    "# Using the best learning rate and running for 3 epochs using autofit\n",
    "learner.autofit(2e-5, 3,class_weight = weights)"
   ]
  },
  {
   "cell_type": "markdown",
   "metadata": {},
   "source": [
    "As shown in the above loss plot, we can visually see the best learning rate based on the falling loss. The accuracy achieved on the last epoch was also 93% which is very good. We use the `validate` function now to observe the other metrics such as precision and recall."
   ]
  },
  {
   "cell_type": "code",
   "execution_count": 20,
   "metadata": {
    "execution": {
     "iopub.execute_input": "2023-06-06T04:31:48.702856Z",
     "iopub.status.busy": "2023-06-06T04:31:48.702459Z",
     "iopub.status.idle": "2023-06-06T04:31:50.524195Z",
     "shell.execute_reply": "2023-06-06T04:31:50.523255Z",
     "shell.execute_reply.started": "2023-06-06T04:31:48.702822Z"
    }
   },
   "outputs": [
    {
     "name": "stdout",
     "output_type": "stream",
     "text": [
      "2/2 [==============================] - 2s 202ms/step\n",
      "              precision    recall  f1-score   support\n",
      "\n",
      "           0       0.36      0.62      0.45         8\n",
      "           1       0.94      0.84      0.89        56\n",
      "\n",
      "    accuracy                           0.81        64\n",
      "   macro avg       0.65      0.73      0.67        64\n",
      "weighted avg       0.87      0.81      0.83        64\n",
      "\n"
     ]
    },
    {
     "data": {
      "text/plain": [
       "array([[ 5,  3],\n",
       "       [ 9, 47]])"
      ]
     },
     "execution_count": 20,
     "metadata": {},
     "output_type": "execute_result"
    }
   ],
   "source": [
    "# Validating the result\n",
    "learner.validate()"
   ]
  },
  {
   "cell_type": "markdown",
   "metadata": {},
   "source": [
    "The model has achieveed a decent precision and recall of 87% and 81% respectively. Although, compared to the accuracy, this is not the desired result, it is still acceptable. "
   ]
  },
  {
   "cell_type": "code",
   "execution_count": 21,
   "metadata": {
    "execution": {
     "iopub.execute_input": "2023-06-06T04:32:19.833301Z",
     "iopub.status.busy": "2023-06-06T04:32:19.832927Z",
     "iopub.status.idle": "2023-06-06T04:32:21.231581Z",
     "shell.execute_reply": "2023-06-06T04:32:21.230536Z",
     "shell.execute_reply.started": "2023-06-06T04:32:19.833269Z"
    }
   },
   "outputs": [],
   "source": [
    "# Saving the Model\n",
    "# Optional Step to demonstrate how to save a model\n",
    "learner.save_model('./SavedModels/DetectSensemakingRubric')\n",
    "predictor = ktrain.get_predictor(learner.model, preproc)\n",
    "predictor.save('./SavedModels/DetectSensemakingRubric')"
   ]
  }
 ],
 "metadata": {
  "kernelspec": {
   "display_name": "Python 3 (ipykernel)",
   "language": "python",
   "name": "python3"
  },
  "language_info": {
   "codemirror_mode": {
    "name": "ipython",
    "version": 3
   },
   "file_extension": ".py",
   "mimetype": "text/x-python",
   "name": "python",
   "nbconvert_exporter": "python",
   "pygments_lexer": "ipython3",
   "version": "3.9.16"
  }
 },
 "nbformat": 4,
 "nbformat_minor": 4
}
